{
 "cells": [
  {
   "cell_type": "code",
   "execution_count": 2,
   "metadata": {},
   "outputs": [],
   "source": [
    "import random\n",
    "import pandas as pd \n",
    "import numpy as np\n",
    "import matplotlib.pyplot as plt\n",
    "import datetime"
   ]
  },
  {
   "cell_type": "markdown",
   "metadata": {},
   "source": [
    "# Transition Marker\n",
    "### Data Import and Formating\n",
    "First the manually created transition list is imported alongside the magnetometer measurements taken _via_ MESSENGER's MAG instrument. Dates for the crossings and the magnetometer measurements are converted to datetime format. Then a 10 minute stop gap is added to the start and end of each transition period in order to prevent transition regions from being sampled in the training data. "
   ]
  },
  {
   "cell_type": "code",
   "execution_count": 3,
   "metadata": {},
   "outputs": [
    {
     "name": "stdout",
     "output_type": "stream",
     "text": [
      "Importing Data...\n"
     ]
    }
   ],
   "source": [
    "print(\"Importing Data...\")\n",
    "\n",
    "#crossing_list = pd.read_csv(dir_path + \"/MESSENGER/\" + \"Mercury_Boundary_Crossing_List.csv\", sep = ',',skipinitialspace = True, index_col = False)\n",
    "crossing_list = pd.read_csv(\"Mercury_Boundary_Crossing_List.csv\", sep = ',', index_col = False)\n",
    "\n",
    "#Converting transitions and Messenger data to datetime format\n",
    "\n",
    "stopgap_minutes = 10\n",
    "\n",
    "\n",
    "\n",
    "crossing_list[\"Start_Date\"] = pd.to_datetime(crossing_list[\"Start_Date\"], format = \"%Y-%m-%d %H:%M:%S\") - datetime.timedelta(minutes = stopgap_minutes)\n",
    "\n",
    "crossing_list[\"End_Date\"] = pd.to_datetime(crossing_list[\"End_Date\"], format = \"%Y-%m-%d %H:%M:%S\") + datetime.timedelta(minutes = stopgap_minutes)\n",
    "\n"
   ]
  },
  {
   "cell_type": "code",
   "execution_count": 4,
   "metadata": {},
   "outputs": [],
   "source": [
    "crossing_list = crossing_list.drop(\"Type\", axis = 1).to_numpy()"
   ]
  },
  {
   "cell_type": "code",
   "execution_count": null,
   "metadata": {},
   "outputs": [
    {
     "name": "stdout",
     "output_type": "stream",
     "text": [
      "Importing Messenger Data...\n"
     ]
    }
   ],
   "source": [
    "print(\"Importing Messenger Data...\")\n",
    "\n",
    "#Importing Messenger Data\n",
    "\n",
    "df = pd.read_csv(\"validation_list.csv\")\n",
    "\n",
    "#df = pd.read_csv(dir_path + \"/test_list.csv\")\n",
    "\n",
    "df[\"Date\"] = pd.to_datetime(df[\"Date\"], format = \"%Y-%m-%d %H:%M:%S\")"
   ]
  },
  {
   "cell_type": "markdown",
   "metadata": {},
   "source": [
    "### Transition Labeling\n",
    "A boolean column is added to the magnetometer dataset. Each row will have a value of 0 if no crossing or stop gap is present at that timepoint, and a value of 1 if there is a crossing/stop gap present. \n",
    "\n",
    "To create these labels, each entry in the manually created crossing list is iterated through. If the start or end date of the crossings are present in the magnetometer data, the dates between the start of the crossing stop gap and the end of the crossing stop gap are given a value of 1. "
   ]
  },
  {
   "cell_type": "code",
   "execution_count": null,
   "metadata": {},
   "outputs": [],
   "source": [
    "#Initial column for transitions (to be changed later)\n",
    "\n",
    "df[\"Transition\"] = 0\n",
    "\n",
    "df[\"Transition\"]= df[\"Transition\"].astype('bool')"
   ]
  },
  {
   "cell_type": "code",
   "execution_count": null,
   "metadata": {},
   "outputs": [],
   "source": [
    "print(\"Labeling Data...\")\n",
    "\n",
    "#Labeling date ranges where transitions occurred (with a 10 minute buffer either side)\n",
    "\n",
    "for tran in range(0, len(crossing_list)):\n",
    "    \n",
    "    if df.loc[df[\"Date\"] == crossing_list[tran][0]].empty:\n",
    "        \n",
    "        if df.loc[df[\"Date\"] == crossing_list[tran][1]].empty:\n",
    "            pass\n",
    "        \n",
    "        else: \n",
    "            df[\"Transition\"][df[\"Date\"].between(\n",
    "            crossing_list[tran][0],\n",
    "            crossing_list[tran][1])\n",
    "        ] = 1\n",
    "            \n",
    "    else: \n",
    "        df[\"Transition\"][df[\"Date\"].between(\n",
    "            crossing_list[tran][0],\n",
    "            crossing_list[tran][1])\n",
    "        ] = 1\n",
    "\n",
    "del crossing_list"
   ]
  },
  {
   "cell_type": "markdown",
   "metadata": {},
   "source": [
    "# Class Balancing \n",
    "### \n",
    "First the dataset is split into 3 parts corresponding to locations where MESSENGER was in the magnetosphere, magnetosheath and solar wind respectively and was not within 10 minutes of a transition. Then the location MESSENGER spent the least amount of time in is identified. "
   ]
  },
  {
   "cell_type": "code",
   "execution_count": null,
   "metadata": {},
   "outputs": [],
   "source": [
    "df[\"Location\"].value_counts()"
   ]
  },
  {
   "cell_type": "code",
   "execution_count": null,
   "metadata": {},
   "outputs": [],
   "source": [
    "All_0s = np.where(df.loc[df[\"Transition\"] == 0][\"Location\"] == 0)[0]\n",
    "\n",
    "All_1s = np.where(df.loc[df[\"Transition\"] == 0][\"Location\"] == 1)[0]\n",
    "\n",
    "All_2s = np.where(df.loc[df[\"Transition\"] == 0][\"Location\"] == 2)[0]\n",
    "\n",
    "\n",
    "\n",
    "classBalance = np.min([len(All_0s),len(All_1s),len(All_2s)]) #Must be smaller than smallest class size\n",
    "\n",
    "\n",
    "\n"
   ]
  },
  {
   "cell_type": "markdown",
   "metadata": {},
   "source": [
    "### Random Sampling\n",
    "To remove the above class imbalance, the two largest datasets are randomly sampled to produce an index the same size as the smallest dataset."
   ]
  },
  {
   "cell_type": "code",
   "execution_count": 9,
   "metadata": {},
   "outputs": [],
   "source": [
    "if len(All_0s) != classBalance:\n",
    "\n",
    "    train_0s_index = random.sample(list(All_0s),classBalance)\n",
    "\n",
    "else:\n",
    "\n",
    "    train_0s_index = All_0s\n",
    "\n",
    "\n",
    "\n",
    "if len(All_1s) != classBalance:\n",
    "\n",
    "    train_1s_index = random.sample(list(All_1s),classBalance)\n",
    "\n",
    "else:\n",
    "\n",
    "    train_1s_index = All_1s\n",
    "\n",
    "    \n",
    "\n",
    "if len(All_2s) != classBalance:\n",
    "\n",
    "    train_2s_index = random.sample(list(All_2s),classBalance) \n",
    "\n",
    "else:\n",
    "\n",
    "    train_2s_index = All_2s"
   ]
  },
  {
   "cell_type": "markdown",
   "metadata": {},
   "source": [
    "\n"
   ]
  },
  {
   "cell_type": "code",
   "execution_count": 17,
   "metadata": {},
   "outputs": [
    {
     "data": {
      "text/plain": [
       "0    1932267\n",
       "Name: Location, dtype: int64"
      ]
     },
     "execution_count": 17,
     "metadata": {},
     "output_type": "execute_result"
    }
   ],
   "source": [
    "df.iloc[train_0s_index][\"Location\"].value_counts()"
   ]
  },
  {
   "cell_type": "code",
   "execution_count": 18,
   "metadata": {},
   "outputs": [
    {
     "data": {
      "text/plain": [
       "1    1932267\n",
       "Name: Location, dtype: int64"
      ]
     },
     "execution_count": 18,
     "metadata": {},
     "output_type": "execute_result"
    }
   ],
   "source": [
    "df.iloc[train_1s_index][\"Location\"].value_counts()"
   ]
  },
  {
   "cell_type": "code",
   "execution_count": 19,
   "metadata": {},
   "outputs": [
    {
     "data": {
      "text/plain": [
       "2    1932267\n",
       "Name: Location, dtype: int64"
      ]
     },
     "execution_count": 19,
     "metadata": {},
     "output_type": "execute_result"
    }
   ],
   "source": [
    "df.iloc[train_2s_index][\"Location\"].value_counts()"
   ]
  },
  {
   "cell_type": "markdown",
   "metadata": {},
   "source": [
    "### Extracting the Class Balanced, Transitionless Data\n",
    "\n",
    "If we take a subset of the entire MESSENGER data from the above indicies, we get an array which has an equal number of observations in the Solar Wind, Magnetosheath and Magnetosphere and no observations within 10 minutes of a stop gap. The dataframe is peared down to this using .iloc, sorted by date and exported to a csv. "
   ]
  },
  {
   "cell_type": "code",
   "execution_count": 20,
   "metadata": {},
   "outputs": [],
   "source": [
    "df.iloc[np.concatenate([np.array(train_0s_index) , np.array(train_1s_index), np.array(train_2s_index)])].sort_values(by=['Date']).to_csv(\"discontinusous_tansitionless_class_balanced_random_sample.csv\", index = False)"
   ]
  }
 ],
 "metadata": {
  "kernelspec": {
   "display_name": "Python 3",
   "language": "python",
   "name": "python3"
  },
  "language_info": {
   "codemirror_mode": {
    "name": "ipython",
    "version": 3
   },
   "file_extension": ".py",
   "mimetype": "text/x-python",
   "name": "python",
   "nbconvert_exporter": "python",
   "pygments_lexer": "ipython3",
   "version": "3.8.10"
  }
 },
 "nbformat": 4,
 "nbformat_minor": 4
}

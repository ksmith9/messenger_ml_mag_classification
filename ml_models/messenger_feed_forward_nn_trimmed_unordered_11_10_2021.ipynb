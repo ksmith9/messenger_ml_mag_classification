{
 "cells": [
  {
   "cell_type": "code",
   "execution_count": 1,
   "metadata": {},
   "outputs": [],
   "source": [
    "import numpy as np\n",
    "import pandas as pd\n",
    "from tensorflow.keras import Sequential \n",
    "from tensorflow.keras.layers import Dense, Flatten, Dropout\n",
    "import tensorflow as tf\n",
    "import datetime\n",
    "import sklearn as sk \n",
    "import matplotlib.pyplot as plt\n",
    "import seaborn as sns\n",
    "from tensorflow.keras.callbacks import TensorBoard, ModelCheckpoint\n",
    "from sklearn.metrics import confusion_matrix, ConfusionMatrixDisplay\n",
    "from sklearn.model_selection import train_test_split\n",
    "from sys import platform\n",
    "\n",
    "\n",
    "plt.rcParams[\"figure.figsize\"] = (20,10)"
   ]
  },
  {
   "cell_type": "markdown",
   "metadata": {},
   "source": [
    "# Importing Data and Creating Test/Train Split"
   ]
  },
  {
   "cell_type": "code",
   "execution_count": 2,
   "metadata": {},
   "outputs": [],
   "source": [
    "df = pd.read_csv(r\"/home/kdudesmith/Dropbox/College/Jackman_Research/data_prep/discontinusous_tansitionless_class_balanced_random_sample.csv\")\n",
    "#df = pd.read_csv(r\"C:\\Users\\kdude\\Dropbox\\College\\Jackman_Research\\data_prep\\discontinusous_tansitionless_class_balanced_random_sample.csv\")"
   ]
  },
  {
   "cell_type": "code",
   "execution_count": 3,
   "metadata": {},
   "outputs": [],
   "source": [
    "X_train, X_test, y_train, y_test = train_test_split( \n",
    "    df.drop([\"Location\", \"OrbitNo\", \"Date\", \"X_MSO\", \"Y_MSO\", \"Z_MSO\"], axis = 1), \n",
    "    df[\"Location\"], \n",
    "    test_size=0.33, random_state=42)\n",
    "del df"
   ]
  },
  {
   "cell_type": "code",
   "execution_count": 4,
   "metadata": {},
   "outputs": [],
   "source": [
    "X_train = np.asarray(X_train).astype('float32')\n",
    "y_train = np.asarray(y_train).astype('float32')"
   ]
  },
  {
   "cell_type": "markdown",
   "metadata": {},
   "source": [
    "# Creating Neural Network \n",
    "\n",
    "The below code is done in a for loop as it will be used for tuning hyparameters eventually. It is possible to specify varying numbers of layers, layer sizes and learning rates. Each model will be created, trained and the resulting training and validation accuracies will be sent to a set of logs which can be opened in tensorboard.\n",
    "\n",
    "For the moment, run this on Windows/Linux if possible. I (Kevin) am not sure how Mac file systems work and need to update this once I do. "
   ]
  },
  {
   "cell_type": "code",
   "execution_count": 5,
   "metadata": {},
   "outputs": [
    {
     "name": "stdout",
     "output_type": "stream",
     "text": [
      "Epoch 1/10\n",
      "103165/103165 [==============================] - 79s 766us/step - loss: 1.2474 - accuracy: 0.6053 - val_loss: 0.6729 - val_accuracy: 0.7440\n",
      "Epoch 2/10\n",
      "103165/103165 [==============================] - 79s 765us/step - loss: 0.7029 - accuracy: 0.7287 - val_loss: 0.6493 - val_accuracy: 0.7503\n",
      "Epoch 3/10\n",
      "103165/103165 [==============================] - 79s 766us/step - loss: 0.6849 - accuracy: 0.7350 - val_loss: 0.6433 - val_accuracy: 0.7522\n",
      "Epoch 4/10\n",
      "103165/103165 [==============================] - 79s 766us/step - loss: 0.6762 - accuracy: 0.7384 - val_loss: 0.6405 - val_accuracy: 0.7529\n",
      "Epoch 5/10\n",
      "103165/103165 [==============================] - 79s 763us/step - loss: 0.6765 - accuracy: 0.7384 - val_loss: 0.6379 - val_accuracy: 0.7519\n",
      "Epoch 6/10\n",
      "103165/103165 [==============================] - 79s 762us/step - loss: 0.6752 - accuracy: 0.7388 - val_loss: 0.6355 - val_accuracy: 0.7518\n",
      "Epoch 7/10\n",
      "103165/103165 [==============================] - 79s 770us/step - loss: 0.6737 - accuracy: 0.7387 - val_loss: 0.6351 - val_accuracy: 0.7529\n",
      "Epoch 8/10\n",
      "103165/103165 [==============================] - 78s 760us/step - loss: 0.6714 - accuracy: 0.7396 - val_loss: 0.6348 - val_accuracy: 0.7518\n",
      "Epoch 9/10\n",
      "103165/103165 [==============================] - 77s 750us/step - loss: 0.6730 - accuracy: 0.7400 - val_loss: 0.6338 - val_accuracy: 0.7534\n",
      "Epoch 10/10\n",
      "103165/103165 [==============================] - 77s 745us/step - loss: 0.6706 - accuracy: 0.7397 - val_loss: 0.6355 - val_accuracy: 0.7530\n"
     ]
    }
   ],
   "source": [
    "layer_numbers = [1]\n",
    "layer_sizes = [128]\n",
    "learning_rates = [0.0001]\n",
    "\n",
    "for layer_number in layer_numbers:\n",
    "    for layer_size in layer_sizes:\n",
    "        for learning_rate in learning_rates: \n",
    "            time = datetime.datetime.now().strftime(\"%Y-%m-%d-%H_%M_%S\")\n",
    "            name = f\"Messenger_feed_forward_{layer_number}x{layer_size}_lr-{learning_rate}_time({time})\"\n",
    "            \n",
    "            \n",
    "\n",
    "            if platform == \"linux\" or platform == \"linux2\":\n",
    "                # linux\n",
    "                tensorboard = TensorBoard(log_dir = f'nnlogs/{name}')\n",
    "            elif platform == \"darwin\":\n",
    "                # OS X\n",
    "                sys.exit(\"Try on a Windows or Linux machine. Or bug me to figure out Mac directory structure.\")  \n",
    "            elif platform == \"win32\":\n",
    "                #Windows\n",
    "                tensorboard = TensorBoard(log_dir = f'nnlogs\\\\{name}') #Windows\n",
    "\n",
    "            \n",
    "            \n",
    "            \n",
    "            model = Sequential() \n",
    "            model.add(Flatten())\n",
    "\n",
    "            for l in range(layer_number):\n",
    "                model.add(Dense(layer_size, activation = tf.nn.relu))\n",
    "                model.add(Dropout(0.2))\n",
    "\n",
    "            model.add(Dense(3, activation=tf.nn.softmax))\n",
    "\n",
    "            opt = tf.keras.optimizers.Adam(lr = learning_rate, decay = 1e-5)\n",
    "            model.compile(optimizer=opt,\n",
    "                          loss='sparse_categorical_crossentropy',\n",
    "                          metrics=['accuracy'])\n",
    "\n",
    "            model.fit(X_train, y_train, batch_size = 32, validation_split = 0.15, epochs = 10, callbacks = [tensorboard])"
   ]
  },
  {
   "cell_type": "markdown",
   "metadata": {},
   "source": [
    "## Model Evalutation\n",
    "The model is evaluated _via_ accuracy scores and a confusion matrix. "
   ]
  },
  {
   "cell_type": "code",
   "execution_count": 6,
   "metadata": {},
   "outputs": [
    {
     "name": "stdout",
     "output_type": "stream",
     "text": [
      "59780/59780 [==============================] - 31s 525us/step - loss: 0.6372 - accuracy: 0.7530\n",
      "Validation Loss: 0.6372271180152893\n",
      "Validation Accuracy: 0.7530137896537781\n"
     ]
    }
   ],
   "source": [
    "X_test = np.asarray(X_test).astype('float32')\n",
    "y_test = np.asarray(y_test).astype('float32')\n",
    "\n",
    "val_loss, val_acc = model.evaluate(X_test, y_test)\n",
    "\n",
    "print(\"Validation Loss:\", val_loss)\n",
    "print(\"Validation Accuracy:\", val_acc)"
   ]
  },
  {
   "cell_type": "code",
   "execution_count": 7,
   "metadata": {},
   "outputs": [],
   "source": [
    "y_pred = model.predict(X_test) \n",
    "y_pred = np.argmax(y_pred, axis = 1)"
   ]
  },
  {
   "cell_type": "code",
   "execution_count": 8,
   "metadata": {},
   "outputs": [],
   "source": [
    "messenger_confussion_matrix = confusion_matrix(y_pred, y_test)"
   ]
  },
  {
   "cell_type": "code",
   "execution_count": 9,
   "metadata": {},
   "outputs": [
    {
     "data": {
      "image/png": "[encoded data removed]",
      "text/plain": [
       "<Figure size 1440x720 with 2 Axes>"
      ]
     },
     "metadata": {
      "needs_background": "light"
     },
     "output_type": "display_data"
    }
   ],
   "source": [
    "\n",
    "cmd_obj = ConfusionMatrixDisplay(messenger_confussion_matrix, display_labels=[\"Magnetosphere\", \"Magnetosheath\", \"Solar Wind\"])\n",
    "\n",
    "\n",
    "cmd_obj.plot()\n",
    "\n",
    "cmd_obj.ax_.set(\n",
    "                title='Confusion Matrix for Feed Forward Neural Network Classifier', \n",
    "                xlabel='Predicted Location', \n",
    "                ylabel='Actual Location')\n",
    "\n",
    "\n",
    "plt.show()"
   ]
  }
 ],
 "metadata": {
  "kernelspec": {
   "display_name": "Python 3",
   "language": "python",
   "name": "python3"
  },
  "language_info": {
   "codemirror_mode": {
    "name": "ipython",
    "version": 3
   },
   "file_extension": ".py",
   "mimetype": "text/x-python",
   "name": "python",
   "nbconvert_exporter": "python",
   "pygments_lexer": "ipython3",
   "version": "3.8.10"
  }
 },
 "nbformat": 4,
 "nbformat_minor": 4
}

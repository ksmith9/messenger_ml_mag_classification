{
 "cells": [
  {
   "cell_type": "code",
   "execution_count": 12,
   "metadata": {},
   "outputs": [],
   "source": [
    "import numpy as np\n",
    "import pandas as pd\n",
    "import tensorflow as tf"
   ]
  },
  {
   "cell_type": "code",
   "execution_count": 13,
   "metadata": {},
   "outputs": [],
   "source": [
    "#df = pd.read_csv(r\"/home/kdudesmith/Dropbox/College/Jackman_Research/data_prep/validation_list_no_transition.csv\")\n",
    "df = pd.read_csv(r\"C:\\Users\\kdude\\Dropbox\\College\\Jackman_Research\\data_prep\\validation_list_no_transitions.csv\")"
   ]
  },
  {
   "cell_type": "code",
   "execution_count": 14,
   "metadata": {},
   "outputs": [
    {
     "data": {
      "text/html": [
       "<div>\n",
       "<style scoped>\n",
       "    .dataframe tbody tr th:only-of-type {\n",
       "        vertical-align: middle;\n",
       "    }\n",
       "\n",
       "    .dataframe tbody tr th {\n",
       "        vertical-align: top;\n",
       "    }\n",
       "\n",
       "    .dataframe thead th {\n",
       "        text-align: right;\n",
       "    }\n",
       "</style>\n",
       "<table border=\"1\" class=\"dataframe\">\n",
       "  <thead>\n",
       "    <tr style=\"text-align: right;\">\n",
       "      <th></th>\n",
       "      <th>Date</th>\n",
       "      <th>X_MSO</th>\n",
       "      <th>Y_MSO</th>\n",
       "      <th>Z_MSO</th>\n",
       "      <th>B_X_MSO</th>\n",
       "      <th>B_Y_MSO</th>\n",
       "      <th>B_Z_MSO</th>\n",
       "      <th>Location</th>\n",
       "      <th>OrbitNo</th>\n",
       "    </tr>\n",
       "  </thead>\n",
       "  <tbody>\n",
       "    <tr>\n",
       "      <th>0</th>\n",
       "      <td>2011-03-26 13:57:25</td>\n",
       "      <td>-507.206</td>\n",
       "      <td>0.964</td>\n",
       "      <td>2698.946</td>\n",
       "      <td>173.454</td>\n",
       "      <td>-10.121</td>\n",
       "      <td>-410.512</td>\n",
       "      <td>0</td>\n",
       "      <td>5.0</td>\n",
       "    </tr>\n",
       "    <tr>\n",
       "      <th>1</th>\n",
       "      <td>2011-03-26 13:57:26</td>\n",
       "      <td>-509.802</td>\n",
       "      <td>-1.484</td>\n",
       "      <td>2697.876</td>\n",
       "      <td>174.209</td>\n",
       "      <td>-9.432</td>\n",
       "      <td>-410.430</td>\n",
       "      <td>0</td>\n",
       "      <td>5.0</td>\n",
       "    </tr>\n",
       "    <tr>\n",
       "      <th>2</th>\n",
       "      <td>2011-03-26 13:57:27</td>\n",
       "      <td>-512.398</td>\n",
       "      <td>-3.932</td>\n",
       "      <td>2696.802</td>\n",
       "      <td>175.033</td>\n",
       "      <td>-8.732</td>\n",
       "      <td>-410.303</td>\n",
       "      <td>0</td>\n",
       "      <td>5.0</td>\n",
       "    </tr>\n",
       "    <tr>\n",
       "      <th>3</th>\n",
       "      <td>2011-03-26 13:57:28</td>\n",
       "      <td>-514.993</td>\n",
       "      <td>-6.380</td>\n",
       "      <td>2695.725</td>\n",
       "      <td>175.959</td>\n",
       "      <td>-8.011</td>\n",
       "      <td>-410.266</td>\n",
       "      <td>0</td>\n",
       "      <td>5.0</td>\n",
       "    </tr>\n",
       "    <tr>\n",
       "      <th>4</th>\n",
       "      <td>2011-03-26 13:57:29</td>\n",
       "      <td>-517.588</td>\n",
       "      <td>-8.828</td>\n",
       "      <td>2694.646</td>\n",
       "      <td>176.928</td>\n",
       "      <td>-7.300</td>\n",
       "      <td>-410.244</td>\n",
       "      <td>0</td>\n",
       "      <td>5.0</td>\n",
       "    </tr>\n",
       "  </tbody>\n",
       "</table>\n",
       "</div>"
      ],
      "text/plain": [
       "                  Date    X_MSO  Y_MSO     Z_MSO  B_X_MSO  B_Y_MSO  B_Z_MSO  \\\n",
       "0  2011-03-26 13:57:25 -507.206  0.964  2698.946  173.454  -10.121 -410.512   \n",
       "1  2011-03-26 13:57:26 -509.802 -1.484  2697.876  174.209   -9.432 -410.430   \n",
       "2  2011-03-26 13:57:27 -512.398 -3.932  2696.802  175.033   -8.732 -410.303   \n",
       "3  2011-03-26 13:57:28 -514.993 -6.380  2695.725  175.959   -8.011 -410.266   \n",
       "4  2011-03-26 13:57:29 -517.588 -8.828  2694.646  176.928   -7.300 -410.244   \n",
       "\n",
       "   Location  OrbitNo  \n",
       "0         0      5.0  \n",
       "1         0      5.0  \n",
       "2         0      5.0  \n",
       "3         0      5.0  \n",
       "4         0      5.0  "
      ]
     },
     "execution_count": 14,
     "metadata": {},
     "output_type": "execute_result"
    }
   ],
   "source": [
    "df.head()"
   ]
  },
  {
   "cell_type": "code",
   "execution_count": 15,
   "metadata": {},
   "outputs": [],
   "source": [
    "(X_train, X_test, y_train, y_test) = (df.drop([\"Location\" , \"OrbitNo\", \"Date\"], axis = 1).iloc[0:int(0.3*len(df))], \n",
    "                                     df.drop([\"Location\" , \"OrbitNo\", \"Date\"], axis = 1).iloc[int(0.3*len(df)):int(0.4*len(df))], \n",
    "                                      df[\"Location\"].iloc[0:int(0.3*len(df))],\n",
    "                                      df[\"Location\"].iloc[int(0.3*len(df)):int(0.4*len(df))])\n",
    "del df"
   ]
  },
  {
   "cell_type": "code",
   "execution_count": 16,
   "metadata": {},
   "outputs": [
    {
     "data": {
      "text/html": [
       "<div>\n",
       "<style scoped>\n",
       "    .dataframe tbody tr th:only-of-type {\n",
       "        vertical-align: middle;\n",
       "    }\n",
       "\n",
       "    .dataframe tbody tr th {\n",
       "        vertical-align: top;\n",
       "    }\n",
       "\n",
       "    .dataframe thead th {\n",
       "        text-align: right;\n",
       "    }\n",
       "</style>\n",
       "<table border=\"1\" class=\"dataframe\">\n",
       "  <thead>\n",
       "    <tr style=\"text-align: right;\">\n",
       "      <th></th>\n",
       "      <th>X_MSO</th>\n",
       "      <th>Y_MSO</th>\n",
       "      <th>Z_MSO</th>\n",
       "      <th>B_X_MSO</th>\n",
       "      <th>B_Y_MSO</th>\n",
       "      <th>B_Z_MSO</th>\n",
       "    </tr>\n",
       "  </thead>\n",
       "  <tbody>\n",
       "    <tr>\n",
       "      <th>0</th>\n",
       "      <td>-507.206</td>\n",
       "      <td>0.964</td>\n",
       "      <td>2698.946</td>\n",
       "      <td>173.454</td>\n",
       "      <td>-10.121</td>\n",
       "      <td>-410.512</td>\n",
       "    </tr>\n",
       "    <tr>\n",
       "      <th>1</th>\n",
       "      <td>-509.802</td>\n",
       "      <td>-1.484</td>\n",
       "      <td>2697.876</td>\n",
       "      <td>174.209</td>\n",
       "      <td>-9.432</td>\n",
       "      <td>-410.430</td>\n",
       "    </tr>\n",
       "    <tr>\n",
       "      <th>2</th>\n",
       "      <td>-512.398</td>\n",
       "      <td>-3.932</td>\n",
       "      <td>2696.802</td>\n",
       "      <td>175.033</td>\n",
       "      <td>-8.732</td>\n",
       "      <td>-410.303</td>\n",
       "    </tr>\n",
       "    <tr>\n",
       "      <th>3</th>\n",
       "      <td>-514.993</td>\n",
       "      <td>-6.380</td>\n",
       "      <td>2695.725</td>\n",
       "      <td>175.959</td>\n",
       "      <td>-8.011</td>\n",
       "      <td>-410.266</td>\n",
       "    </tr>\n",
       "    <tr>\n",
       "      <th>4</th>\n",
       "      <td>-517.588</td>\n",
       "      <td>-8.828</td>\n",
       "      <td>2694.646</td>\n",
       "      <td>176.928</td>\n",
       "      <td>-7.300</td>\n",
       "      <td>-410.244</td>\n",
       "    </tr>\n",
       "  </tbody>\n",
       "</table>\n",
       "</div>"
      ],
      "text/plain": [
       "     X_MSO  Y_MSO     Z_MSO  B_X_MSO  B_Y_MSO  B_Z_MSO\n",
       "0 -507.206  0.964  2698.946  173.454  -10.121 -410.512\n",
       "1 -509.802 -1.484  2697.876  174.209   -9.432 -410.430\n",
       "2 -512.398 -3.932  2696.802  175.033   -8.732 -410.303\n",
       "3 -514.993 -6.380  2695.725  175.959   -8.011 -410.266\n",
       "4 -517.588 -8.828  2694.646  176.928   -7.300 -410.244"
      ]
     },
     "execution_count": 16,
     "metadata": {},
     "output_type": "execute_result"
    }
   ],
   "source": [
    "X_train.head()"
   ]
  },
  {
   "cell_type": "code",
   "execution_count": 17,
   "metadata": {},
   "outputs": [
    {
     "name": "stdout",
     "output_type": "stream",
     "text": [
      "2    80.754357\n",
      "0     9.733578\n",
      "1     9.512065\n",
      "Name: Location, dtype: float64\n"
     ]
    }
   ],
   "source": [
    "print((y_train.value_counts()/len(y_train))*100)"
   ]
  },
  {
   "cell_type": "code",
   "execution_count": 7,
   "metadata": {},
   "outputs": [],
   "source": [
    "model = tf.keras.Sequential() \n",
    "model.add(tf.keras.layers.Flatten())\n",
    "model.add(tf.keras.layers.Dense(128, activation = tf.nn.relu))\n",
    "model.add(tf.keras.layers.Dense(128, activation = tf.nn.relu))\n",
    "model.add(tf.keras.layers.Dense(5, activation=tf.nn.softmax))"
   ]
  },
  {
   "cell_type": "code",
   "execution_count": 8,
   "metadata": {},
   "outputs": [],
   "source": [
    "model.compile(optimizer='adam',\n",
    "              loss='sparse_categorical_crossentropy',\n",
    "              metrics=['accuracy'])"
   ]
  },
  {
   "cell_type": "code",
   "execution_count": 9,
   "metadata": {},
   "outputs": [
    {
     "name": "stdout",
     "output_type": "stream",
     "text": [
      "Epoch 1/3\n",
      "159936/159936 [==============================] - 202s 1ms/step - loss: 0.2484 - accuracy: 0.9844 - val_loss: 2.6644 - val_accuracy: 0.9703\n",
      "Epoch 2/3\n",
      "159936/159936 [==============================] - 223s 1ms/step - loss: 0.0386 - accuracy: 0.9911 - val_loss: 0.1377 - val_accuracy: 0.9790\n",
      "Epoch 3/3\n",
      "159936/159936 [==============================] - 227s 1ms/step - loss: 0.0307 - accuracy: 0.9925 - val_loss: 0.2203 - val_accuracy: 0.9646\n"
     ]
    },
    {
     "data": {
      "text/plain": [
       "<keras.callbacks.History at 0x28108388610>"
      ]
     },
     "execution_count": 9,
     "metadata": {},
     "output_type": "execute_result"
    }
   ],
   "source": [
    "X_train = np.asarray(X_train).astype('float32')\n",
    "y_train = np.asarray(y_train).astype('float32')\n",
    "\n",
    "model.fit(X_train, y_train, batch_size = 32, validation_split = 0.15, epochs = 3)"
   ]
  },
  {
   "cell_type": "code",
   "execution_count": 10,
   "metadata": {},
   "outputs": [
    {
     "name": "stdout",
     "output_type": "stream",
     "text": [
      "37632/37632 [==============================] - 30s 797us/step - loss: 1.6347 - accuracy: 0.9511\n",
      "1.634663462638855\n",
      "0.9510588049888611\n"
     ]
    }
   ],
   "source": [
    "X_test = np.asarray(X_test).astype('float32')\n",
    "y_test = np.asarray(y_test).astype('float32')\n",
    "\n",
    "val_loss, val_acc = model.evaluate(X_test, y_test)\n",
    "print(val_loss)\n",
    "print(val_acc)"
   ]
  },
  {
   "cell_type": "code",
   "execution_count": 15,
   "metadata": {},
   "outputs": [
    {
     "name": "stdout",
     "output_type": "stream",
     "text": [
      "37710/37710 [==============================] - 224s 6ms/step - loss: 2.3397 - accuracy: 0.9542\n",
      "2.3397367000579834\n",
      "0.9541661143302917\n"
     ]
    }
   ],
   "source": []
  },
  {
   "cell_type": "code",
   "execution_count": null,
   "metadata": {},
   "outputs": [],
   "source": []
  }
 ],
 "metadata": {
  "kernelspec": {
   "display_name": "Python 3",
   "language": "python",
   "name": "python3"
  },
  "language_info": {
   "codemirror_mode": {
    "name": "ipython",
    "version": 3
   },
   "file_extension": ".py",
   "mimetype": "text/x-python",
   "name": "python",
   "nbconvert_exporter": "python",
   "pygments_lexer": "ipython3",
   "version": "3.8.5"
  }
 },
 "nbformat": 4,
 "nbformat_minor": 4
}
